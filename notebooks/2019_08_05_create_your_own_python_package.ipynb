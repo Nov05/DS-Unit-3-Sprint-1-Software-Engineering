{
  "nbformat": 4,
  "nbformat_minor": 0,
  "metadata": {
    "colab": {
      "name": "2019-08-05 create your own python package.ipynb",
      "version": "0.3.2",
      "provenance": [],
      "collapsed_sections": [],
      "include_colab_link": true
    },
    "kernelspec": {
      "name": "python3",
      "display_name": "Python 3"
    }
  },
  "cells": [
    {
      "cell_type": "markdown",
      "metadata": {
        "id": "view-in-github",
        "colab_type": "text"
      },
      "source": [
        "<a href=\"https://colab.research.google.com/github/Nov05/DS-Unit-3-Sprint-1-Software-Engineering/blob/master/notebooks/2019_08_05_create_your_own_python_package.ipynb\" target=\"_parent\"><img src=\"https://colab.research.google.com/assets/colab-badge.svg\" alt=\"Open In Colab\"/></a>"
      ]
    },
    {
      "cell_type": "code",
      "metadata": {
        "id": "bqonZzBOsLue",
        "colab_type": "code",
        "colab": {}
      },
      "source": [
        "# created by nov05 on 2019-08-05\n",
        "# DS-Unit-3-Sprint-1-Software-Engineering\n",
        "# notebooks"
      ],
      "execution_count": 0,
      "outputs": []
    },
    {
      "cell_type": "markdown",
      "metadata": {
        "id": "UeG-WHieuGX5",
        "colab_type": "text"
      },
      "source": [
        "`setup.py`\n",
        "```\n",
        "import setuptools\n",
        "\n",
        "with open(\"README.md\", \"r\") as fh:\n",
        "    long_description = fh.read()\n",
        "\n",
        "setuptools.setup(\n",
        "    name=\"lambdata-nov05\",\n",
        "    version=\"0.0.1\",\n",
        "    author=\"nov05\",\n",
        "    author_email=\"*@*.com\",\n",
        "    description=\"DS5 Unit3 example package\",\n",
        "    long_description=long_description,\n",
        "    long_description_content_type=\"text/markdown\",\n",
        "    url=\"https://github.com/Nov05/python-packages\",\n",
        "    packages=setuptools.find_packages(),\n",
        "    classifiers=[\n",
        "        \"Programming Language :: Python :: 3\",\n",
        "        \"License :: OSI Approved :: MIT License\",\n",
        "        \"Operating System :: OS Independent\",\n",
        "    ],\n",
        ")\n",
        "```\n",
        "\n",
        "https://test.pypi.org/project/lambdata-nov05/  "
      ]
    },
    {
      "cell_type": "code",
      "metadata": {
        "id": "f6fan9YHsPEn",
        "colab_type": "code",
        "colab": {
          "base_uri": "https://localhost:8080/",
          "height": 105
        },
        "outputId": "d902365a-8d18-4cfa-fa25-c8d36a491fb8"
      },
      "source": [
        "#################################################################\n",
        "!pip install -i https://test.pypi.org/simple/ lambdata-nov05\n",
        "#################################################################  \n",
        "# Looking in indexes: https://test.pypi.org/simple/\n",
        "# Collecting lambdata-nov05\n",
        "#   Downloading https://test-files.pythonhosted.org/packages/84/51/a89f80acc393bea5210ab913a02692caf7bb90a19487308282b36a08ab05/lambdata_nov05-0.0.1-py3-none-any.whl\n",
        "# Installing collected packages: lambdata-nov05\n",
        "# Successfully installed lambdata-nov05-0.0.1\n",
        "\n",
        "#################################################################\n",
        "# import lambdata-nov05 as lambdata\n",
        "#################################################################\n",
        "#   File \"<ipython-input-2-ea5c6d818a11>\", line 1\n",
        "#     import lambdata-nov05 as lambdata\n",
        "#                    ^\n",
        "# SyntaxError: invalid syntax"
      ],
      "execution_count": 1,
      "outputs": [
        {
          "output_type": "stream",
          "text": [
            "Looking in indexes: https://test.pypi.org/simple/\n",
            "Collecting lambdata-nov05\n",
            "  Downloading https://test-files.pythonhosted.org/packages/f2/46/1fee1a6079ff42ced96e100b2d73a19f4b39b219ded5f046ab5719a21a00/lambdata_nov05-0.0.6-py3-none-any.whl\n",
            "Installing collected packages: lambdata-nov05\n",
            "Successfully installed lambdata-nov05-0.0.6\n"
          ],
          "name": "stdout"
        }
      ]
    },
    {
      "cell_type": "code",
      "metadata": {
        "id": "AHGQmFH1tgcs",
        "colab_type": "code",
        "colab": {
          "base_uri": "https://localhost:8080/",
          "height": 35
        },
        "outputId": "1e8335ab-595b-417d-9f0f-20b6eaf7f3e7"
      },
      "source": [
        "import lambdata_nov05 as lambdata\n",
        "lambdata.name"
      ],
      "execution_count": 2,
      "outputs": [
        {
          "output_type": "execute_result",
          "data": {
            "text/plain": [
              "'Technically the name is an attribute of the package object, so it can be anything as long as Python allows.'"
            ]
          },
          "metadata": {
            "tags": []
          },
          "execution_count": 2
        }
      ]
    },
    {
      "cell_type": "code",
      "metadata": {
        "id": "vXKplRvHHj1L",
        "colab_type": "code",
        "colab": {
          "base_uri": "https://localhost:8080/",
          "height": 299
        },
        "outputId": "d8419df1-23d5-4e2f-e950-0ef3f017731a"
      },
      "source": [
        "import pandas as pd\n",
        "from sklearn.datasets import load_boston\n",
        "from lambdata_nov05 import nov05_nulls\n",
        "boston = load_boston()\n",
        "print(boston.data.shape)\n",
        "df = pd.DataFrame(boston.data, columns=boston.feature_names)\n",
        "nov05_nulls.nov05_colnulls(df)"
      ],
      "execution_count": 8,
      "outputs": [
        {
          "output_type": "stream",
          "text": [
            "(506, 13)\n",
            "Column CRIM has 0 null values.\n",
            "Column ZN has 0 null values.\n",
            "Column INDUS has 0 null values.\n",
            "Column CHAS has 0 null values.\n",
            "Column NOX has 0 null values.\n",
            "Column RM has 0 null values.\n",
            "Column AGE has 0 null values.\n",
            "Column DIS has 0 null values.\n",
            "Column RAD has 0 null values.\n",
            "Column TAX has 0 null values.\n",
            "Column PTRATIO has 0 null values.\n",
            "Column B has 0 null values.\n",
            "Column LSTAT has 0 null values.\n",
            "Data frame has 0 null values.\n"
          ],
          "name": "stdout"
        },
        {
          "output_type": "execute_result",
          "data": {
            "text/plain": [
              "[0, 0, 0, 0, 0, 0, 0, 0, 0, 0, 0, 0, 0]"
            ]
          },
          "metadata": {
            "tags": []
          },
          "execution_count": 8
        }
      ]
    }
  ]
}