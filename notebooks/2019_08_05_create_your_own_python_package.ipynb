{
  "nbformat": 4,
  "nbformat_minor": 0,
  "metadata": {
    "colab": {
      "name": "2019-08-05 create your own python package.ipynb",
      "version": "0.3.2",
      "provenance": [],
      "collapsed_sections": [],
      "toc_visible": true,
      "include_colab_link": true
    },
    "kernelspec": {
      "name": "python3",
      "display_name": "Python 3"
    }
  },
  "cells": [
    {
      "cell_type": "markdown",
      "metadata": {
        "id": "view-in-github",
        "colab_type": "text"
      },
      "source": [
        "<a href=\"https://colab.research.google.com/github/Nov05/DS-Unit-3-Sprint-1-Software-Engineering/blob/master/notebooks/2019_08_05_create_your_own_python_package.ipynb\" target=\"_parent\"><img src=\"https://colab.research.google.com/assets/colab-badge.svg\" alt=\"Open In Colab\"/></a>"
      ]
    },
    {
      "cell_type": "code",
      "metadata": {
        "id": "bqonZzBOsLue",
        "colab_type": "code",
        "colab": {}
      },
      "source": [
        "# created by Nov05 on 2019-08-05\n",
        "# DS-Unit-3-Sprint-1-Software-Engineering\n",
        "# notebooks"
      ],
      "execution_count": 0,
      "outputs": []
    },
    {
      "cell_type": "markdown",
      "metadata": {
        "id": "FwR6aqFOg20Q",
        "colab_type": "text"
      },
      "source": [
        "# Week 10 Day 1"
      ]
    },
    {
      "cell_type": "markdown",
      "metadata": {
        "id": "HNWES6OMg7lc",
        "colab_type": "text"
      },
      "source": [
        "Distribute your packages"
      ]
    },
    {
      "cell_type": "markdown",
      "metadata": {
        "id": "UeG-WHieuGX5",
        "colab_type": "text"
      },
      "source": [
        "`setup.py`\n",
        "```\n",
        "import setuptools\n",
        "\n",
        "with open(\"README.md\", \"r\") as fh:\n",
        "    long_description = fh.read()\n",
        "\n",
        "setuptools.setup(\n",
        "    name=\"lambdata-nov05\", # distribution name: '-' or '_' doesn't matter here\n",
        "    version=\"0.0.1\", # update version number everytime before generate/upload distribution files\n",
        "    author=\"nov05\",\n",
        "    author_email=\"*@*.com\",\n",
        "    description=\"DS5 Unit3 example package\",\n",
        "    long_description=long_description, # copy from README.md file\n",
        "    long_description_content_type=\"text/markdown\",\n",
        "    url=\"https://github.com/Nov05/python-packages\",\n",
        "    packages=setuptools.find_packages(),\n",
        "    classifiers=[\n",
        "        \"Programming Language :: Python :: 3\",\n",
        "        \"License :: OSI Approved :: MIT License\",\n",
        "        \"Operating System :: OS Independent\",\n",
        "    ],\n",
        ")\n",
        "```\n",
        "\n",
        "Test PyPI - https://test.pypi.org/project/lambdata-nov05/    \n",
        "GitHub Repo - https://github.com/Nov05/python-packages  "
      ]
    },
    {
      "cell_type": "code",
      "metadata": {
        "id": "f6fan9YHsPEn",
        "colab_type": "code",
        "outputId": "595c02b7-ce94-46d8-d02b-f2638e50e282",
        "colab": {
          "base_uri": "https://localhost:8080/",
          "height": 125
        }
      },
      "source": [
        "#################################################################\n",
        "!pip install -i https://test.pypi.org/simple/ lambdata-nov05\n",
        "#################################################################  \n",
        "# Looking in indexes: https://test.pypi.org/simple/\n",
        "# Collecting lambdata-nov05\n",
        "#   Downloading https://test-files.pythonhosted.org/packages/84/51/a89f80acc393bea5210ab913a02692caf7bb90a19487308282b36a08ab05/lambdata_nov05-0.0.1-py3-none-any.whl\n",
        "# Installing collected packages: lambdata-nov05\n",
        "# Successfully installed lambdata-nov05-0.0.1\n",
        "\n",
        "#################################################################\n",
        "# import lambdata-nov05 as lambdata\n",
        "#################################################################\n",
        "#   File \"<ipython-input-2-ea5c6d818a11>\", line 1\n",
        "#     import lambdata-nov05 as lambdata\n",
        "#                    ^\n",
        "# SyntaxError: invalid syntax"
      ],
      "execution_count": 0,
      "outputs": [
        {
          "output_type": "stream",
          "text": [
            "Looking in indexes: https://test.pypi.org/simple/\n",
            "Collecting lambdata-nov05\n",
            "  Downloading https://test-files.pythonhosted.org/packages/f2/46/1fee1a6079ff42ced96e100b2d73a19f4b39b219ded5f046ab5719a21a00/lambdata_nov05-0.0.6-py3-none-any.whl\n",
            "Installing collected packages: lambdata-nov05\n",
            "Successfully installed lambdata-nov05-0.0.6\n"
          ],
          "name": "stdout"
        }
      ]
    },
    {
      "cell_type": "code",
      "metadata": {
        "id": "AHGQmFH1tgcs",
        "colab_type": "code",
        "outputId": "e6698e63-aaec-4705-de39-fd3cc6dea19b",
        "colab": {
          "base_uri": "https://localhost:8080/",
          "height": 35
        }
      },
      "source": [
        "import lambdata_nov05 as lambdata\n",
        "lambdata.name"
      ],
      "execution_count": 0,
      "outputs": [
        {
          "output_type": "execute_result",
          "data": {
            "text/plain": [
              "'Technically the name is an attribute of the package object, so it can be anything as long as Python allows.'"
            ]
          },
          "metadata": {
            "tags": []
          },
          "execution_count": 11
        }
      ]
    },
    {
      "cell_type": "code",
      "metadata": {
        "id": "vXKplRvHHj1L",
        "colab_type": "code",
        "outputId": "c6ab40b7-437f-4bb1-f11a-e15a6e0af502",
        "colab": {
          "base_uri": "https://localhost:8080/",
          "height": 299
        }
      },
      "source": [
        "import pandas as pd\n",
        "from sklearn.datasets import load_boston\n",
        "from lambdata_nov05 import nov05_nulls\n",
        "\n",
        "boston = load_boston()\n",
        "print(boston.data.shape)\n",
        "df = pd.DataFrame(boston.data, columns=boston.feature_names)\n",
        "nov05_nulls.nov05_colnulls(df)"
      ],
      "execution_count": 0,
      "outputs": [
        {
          "output_type": "stream",
          "text": [
            "(506, 13)\n",
            "Column CRIM has 0 null values.\n",
            "Column ZN has 0 null values.\n",
            "Column INDUS has 0 null values.\n",
            "Column CHAS has 0 null values.\n",
            "Column NOX has 0 null values.\n",
            "Column RM has 0 null values.\n",
            "Column AGE has 0 null values.\n",
            "Column DIS has 0 null values.\n",
            "Column RAD has 0 null values.\n",
            "Column TAX has 0 null values.\n",
            "Column PTRATIO has 0 null values.\n",
            "Column B has 0 null values.\n",
            "Column LSTAT has 0 null values.\n",
            "Data frame has 0 null values.\n"
          ],
          "name": "stdout"
        },
        {
          "output_type": "execute_result",
          "data": {
            "text/plain": [
              "[0, 0, 0, 0, 0, 0, 0, 0, 0, 0, 0, 0, 0]"
            ]
          },
          "metadata": {
            "tags": []
          },
          "execution_count": 12
        }
      ]
    },
    {
      "cell_type": "markdown",
      "metadata": {
        "id": "W431oj-suB02",
        "colab_type": "text"
      },
      "source": [
        "https://stackoverflow.com/questions/37139786/is-init-py-not-required-for-packages-in-python-3-3  "
      ]
    },
    {
      "cell_type": "code",
      "metadata": {
        "id": "uM5DVb1stp-3",
        "colab_type": "code",
        "outputId": "8b70231e-60e9-41ff-ef55-e5822c159c7c",
        "colab": {
          "base_uri": "https://localhost:8080/",
          "height": 299
        }
      },
      "source": [
        "import pandas as pd\n",
        "from sklearn.datasets import load_boston\n",
        "from lambdata_nov05.nov05_nulls import nov05_colnulls\n",
        "\n",
        "boston = load_boston()\n",
        "print(boston.data.shape)\n",
        "df = pd.DataFrame(boston.data, columns=boston.feature_names)\n",
        "nov05_colnulls(df)"
      ],
      "execution_count": 0,
      "outputs": [
        {
          "output_type": "stream",
          "text": [
            "(506, 13)\n",
            "Column CRIM has 0 null values.\n",
            "Column ZN has 0 null values.\n",
            "Column INDUS has 0 null values.\n",
            "Column CHAS has 0 null values.\n",
            "Column NOX has 0 null values.\n",
            "Column RM has 0 null values.\n",
            "Column AGE has 0 null values.\n",
            "Column DIS has 0 null values.\n",
            "Column RAD has 0 null values.\n",
            "Column TAX has 0 null values.\n",
            "Column PTRATIO has 0 null values.\n",
            "Column B has 0 null values.\n",
            "Column LSTAT has 0 null values.\n",
            "Data frame has 0 null values.\n"
          ],
          "name": "stdout"
        },
        {
          "output_type": "execute_result",
          "data": {
            "text/plain": [
              "[0, 0, 0, 0, 0, 0, 0, 0, 0, 0, 0, 0, 0]"
            ]
          },
          "metadata": {
            "tags": []
          },
          "execution_count": 13
        }
      ]
    },
    {
      "cell_type": "markdown",
      "metadata": {
        "id": "tJl7SkjSzylA",
        "colab_type": "text"
      },
      "source": [
        "# Week 10 Day 2  \n",
        "OOP, Code Style, and Reviews  \n",
        "https://learn.lambdaschool.com/ds/module/recqeF16aJfb1UTWF/  \n",
        "\n",
        "<img src=\"http://mathworld.wolfram.com/images/equations/ComplexDivision/NumberedEquation1.gif\">‘’  "
      ]
    },
    {
      "cell_type": "code",
      "metadata": {
        "id": "xxzI7Dwmzv_D",
        "colab_type": "code",
        "outputId": "c68947c8-9528-443f-f109-405a698a8290",
        "colab": {
          "base_uri": "https://localhost:8080/",
          "height": 211
        }
      },
      "source": [
        "# define a complex number\n",
        "class Complex:\n",
        "    def __init__(self, realpart, imagpart):        \n",
        "        self.r = realpart\n",
        "        self.i = imagpart\n",
        "   \n",
        "    def __str__(self):\n",
        "## this is not the ideal format that i want    \n",
        "#         return \"{0:}{1:+}i\".format(self.r, self.i)\n",
        "# this is the format that i want, code could be prettier...\n",
        "        r = str(self.r).rstrip('0').rstrip('.')\n",
        "        i = str(self.i).rstrip('0').rstrip('.')\n",
        "        if self.i > 0:\n",
        "            return r+'+'+i+'i'\n",
        "        elif self.i < 0:\n",
        "            return r+i+'i'\n",
        "        elif r == '':\n",
        "            return 0\n",
        "        else:\n",
        "            return r\n",
        "     \n",
        "    @property\n",
        "    def real(self):\n",
        "        return self.r  \n",
        "  \n",
        "    @property\n",
        "        def imaginary(self):\n",
        "        return self.i\n",
        "  \n",
        "    @property\n",
        "        def value(self):\n",
        "        return [self.r, self.i] # an array makes more sense\n",
        "      \n",
        "    def add(self, c):\n",
        "        self.r += c.r\n",
        "        self.i += c.i\n",
        "    \n",
        "    def subtract(self, c):\n",
        "        self.r -= c.r\n",
        "        self.i -= c.i\n",
        "    \n",
        "    def multiply(self, c):\n",
        "        self.r = self.r * c.r - self.i * c.i\n",
        "        self.i = self.r * c.i + self.i * c.r\n",
        "    \n",
        "    def divide(self, c):\n",
        "        self.r = (self.r * c.r + self.r * c.i) / (c.r ** 2 + c.i ** 2)\n",
        "        self.i = (self.i * c.r - self.r * c.i) / (c.r ** 2 + c.i ** 2)\n",
        "  \n",
        "x = Complex(3.0, -4.5)\n",
        "print(x.value, x.real, x.imaginary)\n",
        "\n",
        "x = Complex(0, -4.5)\n",
        "print(x.value)\n",
        "\n",
        "x = Complex(-3.0, 0)\n",
        "print(x.value)\n",
        "\n",
        "x = Complex(0, 0)\n",
        "print(x.value)\n",
        "\n",
        "x = Complex(3.0, -4.5)\n",
        "y = Complex(5, 5)\n",
        "x.add(y)\n",
        "print(x.value)\n",
        "\n",
        "x = Complex(3.0, -4.5)\n",
        "y = Complex(8, .5)\n",
        "x.subtract(y)\n",
        "print(x.value)\n",
        "\n",
        "x = Complex(3.0, -4.5)\n",
        "y = Complex(5, 5)\n",
        "x.multiply(y)\n",
        "print(x.value)\n",
        "\n",
        "x = Complex(3.0, -4.5)\n",
        "y = Complex(5, 5)\n",
        "x.divide(y)\n",
        "print(x.value)\n",
        "\n",
        "print(x.__repr__)\n",
        "print(x.__str__)\n",
        "print(str(x))"
      ],
      "execution_count": 0,
      "outputs": [
        {
          "output_type": "stream",
          "text": [
            "[3.0, -4.5] 3.0 -4.5\n",
            "[0, -4.5]\n",
            "[-3.0, 0]\n",
            "[0, 0]\n",
            "[8.0, 0.5]\n",
            "[-5.0, -5.0]\n",
            "[37.5, 165.0]\n",
            "[0.6, -0.51]\n",
            "<method-wrapper '__repr__' of Complex object at 0x7f7823c66f60>\n",
            "<bound method Complex.__str__ of <__main__.Complex object at 0x7f7823c66f60>>\n",
            "0.6-0.51i\n"
          ],
          "name": "stdout"
        }
      ]
    },
    {
      "cell_type": "code",
      "metadata": {
        "id": "GLi0A76B-nAC",
        "colab_type": "code",
        "outputId": "52bd85ef-134f-41ee-c302-724d8b8ed4e9",
        "colab": {
          "base_uri": "https://localhost:8080/",
          "height": 326
        }
      },
      "source": [
        "# \"division by zero\" error should be thrown out\n",
        "x = Complex(3.0, -4.5) \n",
        "x.divide(Complex(0, 0))\n",
        "print(x.r, x.i)"
      ],
      "execution_count": 0,
      "outputs": [
        {
          "output_type": "error",
          "ename": "ZeroDivisionError",
          "evalue": "ignored",
          "traceback": [
            "\u001b[0;31m---------------------------------------------------------------------------\u001b[0m",
            "\u001b[0;31mZeroDivisionError\u001b[0m                         Traceback (most recent call last)",
            "\u001b[0;32m<ipython-input-2-aee138fe0f79>\u001b[0m in \u001b[0;36m<module>\u001b[0;34m()\u001b[0m\n\u001b[1;32m      1\u001b[0m \u001b[0mx\u001b[0m \u001b[0;34m=\u001b[0m \u001b[0mComplex\u001b[0m\u001b[0;34m(\u001b[0m\u001b[0;36m3.0\u001b[0m\u001b[0;34m,\u001b[0m \u001b[0;34m-\u001b[0m\u001b[0;36m4.5\u001b[0m\u001b[0;34m)\u001b[0m\u001b[0;34m\u001b[0m\u001b[0;34m\u001b[0m\u001b[0m\n\u001b[0;32m----> 2\u001b[0;31m \u001b[0mx\u001b[0m\u001b[0;34m.\u001b[0m\u001b[0mdivide\u001b[0m\u001b[0;34m(\u001b[0m\u001b[0mComplex\u001b[0m\u001b[0;34m(\u001b[0m\u001b[0;36m0\u001b[0m\u001b[0;34m,\u001b[0m \u001b[0;36m0\u001b[0m\u001b[0;34m)\u001b[0m\u001b[0;34m)\u001b[0m\u001b[0;34m\u001b[0m\u001b[0;34m\u001b[0m\u001b[0m\n\u001b[0m\u001b[1;32m      3\u001b[0m \u001b[0mprint\u001b[0m\u001b[0;34m(\u001b[0m\u001b[0mx\u001b[0m\u001b[0;34m.\u001b[0m\u001b[0mr\u001b[0m\u001b[0;34m,\u001b[0m \u001b[0mx\u001b[0m\u001b[0;34m.\u001b[0m\u001b[0mi\u001b[0m\u001b[0;34m)\u001b[0m\u001b[0;34m\u001b[0m\u001b[0;34m\u001b[0m\u001b[0m\n",
            "\u001b[0;32m<ipython-input-1-bfc7a4a1100f>\u001b[0m in \u001b[0;36mdivide\u001b[0;34m(self, c)\u001b[0m\n\u001b[1;32m     17\u001b[0m \u001b[0;34m\u001b[0m\u001b[0m\n\u001b[1;32m     18\u001b[0m   \u001b[0;32mdef\u001b[0m \u001b[0mdivide\u001b[0m\u001b[0;34m(\u001b[0m\u001b[0mself\u001b[0m\u001b[0;34m,\u001b[0m \u001b[0mc\u001b[0m\u001b[0;34m)\u001b[0m\u001b[0;34m:\u001b[0m\u001b[0;34m\u001b[0m\u001b[0;34m\u001b[0m\u001b[0m\n\u001b[0;32m---> 19\u001b[0;31m     \u001b[0mself\u001b[0m\u001b[0;34m.\u001b[0m\u001b[0mr\u001b[0m \u001b[0;34m=\u001b[0m \u001b[0;34m(\u001b[0m\u001b[0mself\u001b[0m\u001b[0;34m.\u001b[0m\u001b[0mr\u001b[0m \u001b[0;34m*\u001b[0m \u001b[0mc\u001b[0m\u001b[0;34m.\u001b[0m\u001b[0mr\u001b[0m \u001b[0;34m+\u001b[0m \u001b[0mself\u001b[0m\u001b[0;34m.\u001b[0m\u001b[0mr\u001b[0m \u001b[0;34m*\u001b[0m \u001b[0mc\u001b[0m\u001b[0;34m.\u001b[0m\u001b[0mi\u001b[0m\u001b[0;34m)\u001b[0m \u001b[0;34m/\u001b[0m \u001b[0;34m(\u001b[0m\u001b[0mc\u001b[0m\u001b[0;34m.\u001b[0m\u001b[0mr\u001b[0m \u001b[0;34m**\u001b[0m \u001b[0;36m2\u001b[0m \u001b[0;34m+\u001b[0m \u001b[0mc\u001b[0m\u001b[0;34m.\u001b[0m\u001b[0mi\u001b[0m \u001b[0;34m**\u001b[0m \u001b[0;36m2\u001b[0m\u001b[0;34m)\u001b[0m\u001b[0;34m\u001b[0m\u001b[0;34m\u001b[0m\u001b[0m\n\u001b[0m\u001b[1;32m     20\u001b[0m     \u001b[0mself\u001b[0m\u001b[0;34m.\u001b[0m\u001b[0mi\u001b[0m \u001b[0;34m=\u001b[0m \u001b[0;34m(\u001b[0m\u001b[0mself\u001b[0m\u001b[0;34m.\u001b[0m\u001b[0mi\u001b[0m \u001b[0;34m*\u001b[0m \u001b[0mc\u001b[0m\u001b[0;34m.\u001b[0m\u001b[0mr\u001b[0m \u001b[0;34m-\u001b[0m \u001b[0mself\u001b[0m\u001b[0;34m.\u001b[0m\u001b[0mr\u001b[0m \u001b[0;34m*\u001b[0m \u001b[0mc\u001b[0m\u001b[0;34m.\u001b[0m\u001b[0mi\u001b[0m\u001b[0;34m)\u001b[0m \u001b[0;34m/\u001b[0m \u001b[0;34m(\u001b[0m\u001b[0mc\u001b[0m\u001b[0;34m.\u001b[0m\u001b[0mr\u001b[0m \u001b[0;34m**\u001b[0m \u001b[0;36m2\u001b[0m \u001b[0;34m+\u001b[0m \u001b[0mc\u001b[0m\u001b[0;34m.\u001b[0m\u001b[0mi\u001b[0m \u001b[0;34m**\u001b[0m \u001b[0;36m2\u001b[0m\u001b[0;34m)\u001b[0m\u001b[0;34m\u001b[0m\u001b[0;34m\u001b[0m\u001b[0m\n\u001b[1;32m     21\u001b[0m \u001b[0;34m\u001b[0m\u001b[0m\n",
            "\u001b[0;31mZeroDivisionError\u001b[0m: float division by zero"
          ]
        }
      ]
    },
    {
      "cell_type": "markdown",
      "metadata": {
        "id": "c2yGuvy53R4L",
        "colab_type": "text"
      },
      "source": [
        "This is an interesting post.  \n",
        "https://realpython.com/pointers-in-python/    "
      ]
    },
    {
      "cell_type": "code",
      "metadata": {
        "id": "ol8cnqcc3RjF",
        "colab_type": "code",
        "outputId": "53edbb86-7225-449e-ac73-42caca1420e6",
        "colab": {
          "base_uri": "https://localhost:8080/",
          "height": 87
        }
      },
      "source": [
        "# define a complex number\n",
        "# dictionary emulates pointers in Python\n",
        "# why do i do this? i don't know. didn't come up with \n",
        "# an example that pointers are actually needed...\n",
        "\n",
        "class Complex:\n",
        "    def __init__(self, realpart, imagpart):    \n",
        "        self._complex = {\n",
        "            'r': realpart,\n",
        "            'i': imagpart,\n",
        "        }\n",
        "  \n",
        "    @property\n",
        "    def value(self):\n",
        "        return [self._complex['r'], self._complex['i']]\n",
        "  \n",
        "    @property\n",
        "    def real(self):\n",
        "        return self._complex['r']  \n",
        "  \n",
        "    @property\n",
        "        def imaginary(self):\n",
        "        return self._complex['i']    \n",
        "    \n",
        "        def add(self, c):\n",
        "            self._complex['r'] += c._complex['r']\n",
        "            self._complex['i'] += c._complex['i']\n",
        "  \n",
        "x = Complex(3.0, -4.5)\n",
        "print(x.value)\n",
        "print(x.real)\n",
        "print(x.imaginary)\n",
        "\n",
        "x = Complex(3.0, -4.5)\n",
        "y = Complex(5, 5)\n",
        "x.add(y)\n",
        "print(x.value)"
      ],
      "execution_count": 0,
      "outputs": [
        {
          "output_type": "stream",
          "text": [
            "[3.0, -4.5]\n",
            "3.0\n",
            "-4.5\n",
            "[8.0, 0.5]\n"
          ],
          "name": "stdout"
        }
      ]
    },
    {
      "cell_type": "markdown",
      "metadata": {
        "id": "Bk-RxRsB6O-t",
        "colab_type": "text"
      },
      "source": [
        "# Week 10 Day 3"
      ]
    },
    {
      "cell_type": "markdown",
      "metadata": {
        "id": "iH9XCesRtYCX",
        "colab_type": "text"
      },
      "source": [
        "http://google.github.io/styleguide/pyguide.html  \n",
        "1. import local python files   \n",
        "2. class inheritance by super()"
      ]
    },
    {
      "cell_type": "code",
      "metadata": {
        "id": "VH5xcVTfuvUE",
        "colab_type": "code",
        "colab": {}
      },
      "source": [
        "!mkdir mypackage"
      ],
      "execution_count": 0,
      "outputs": []
    },
    {
      "cell_type": "code",
      "metadata": {
        "id": "giOeLBk46SJm",
        "colab_type": "code",
        "outputId": "16b875a8-6ccf-4f42-f730-372332a47764",
        "colab": {
          "base_uri": "https://localhost:8080/",
          "height": 35
        }
      },
      "source": [
        "# export to a local .py file\n",
        "%%writefile mypackage/myclasses.py\n",
        "\n",
        "class Animal():\n",
        "    def __init__(self, is_alive=True, species='Unknown'):\n",
        "        self.is_alive = is_alive\n",
        "        self.species = species\n",
        "\n",
        "class Dog(Animal):\n",
        "    def __init__(self, is_alive=True):\n",
        "        super().__init__(is_alive=is_alive, species='C. lupus')\n",
        "    \n",
        "    def bark(self):\n",
        "        return \"woof!\"\n",
        "\n",
        "class Pitbull(Dog):\n",
        "    def __init__(self, name, color):\n",
        "        super().__init__()\n",
        "        self.name = name\n",
        "        self.color = color"
      ],
      "execution_count": 0,
      "outputs": [
        {
          "output_type": "stream",
          "text": [
            "Overwriting mypackage/myclasses.py\n"
          ],
          "name": "stdout"
        }
      ]
    },
    {
      "cell_type": "code",
      "metadata": {
        "id": "zeL9ZivEf4P9",
        "colab_type": "code",
        "outputId": "4777d85f-e683-48ec-84aa-9220231ef215",
        "colab": {
          "base_uri": "https://localhost:8080/",
          "height": 193
        }
      },
      "source": [
        "# import a local .py file\n",
        "%load mypackage/myclasses.py\n",
        "\n",
        "# remember to restart the runtime everytime \n",
        "# you have modified the classes (Ctrl + M.)\n",
        "from mypackage.myclasses import Animal, Dog, Pitbull\n",
        "\n",
        "animal1 = Animal()\n",
        "print('animal1 is alive:', animal1.is_alive)\n",
        "print('animal1 species:', animal1.species)\n",
        "\n",
        "dog1 = Dog()\n",
        "print('dog1 is alive:', dog1.is_alive)\n",
        "print('dog1 species:', dog1.species)\n",
        "print('dog1 barks:', dog1.bark())\n",
        "\n",
        "dog2 = Dog(is_alive=False)\n",
        "print('dog2 is alive:', dog2.is_alive)\n",
        "dog2.is_alive = True\n",
        "print('dog2 has come back to life:', dog2.is_alive)\n",
        "\n",
        "pitbull1 = Pitbull('Dominic', 'blue')\n",
        "print('pitbull1 name:', pitbull1.name)\n",
        "print('pitbull2 color:', pitbull1.color)\n",
        "print('pitbull2 is alive:', pitbull1.is_alive)"
      ],
      "execution_count": 0,
      "outputs": [
        {
          "output_type": "stream",
          "text": [
            "animal1 is alive: True\n",
            "animal1 species: Unknown\n",
            "dog1 is alive: True\n",
            "dog1 species: C. lupus\n",
            "dog1 barks: woof!\n",
            "dog2 is alive: False\n",
            "dog2 has come back to life: True\n",
            "pitbull1 name: Dominic\n",
            "pitbull2 color: blue\n",
            "pitbull2 is alive: True\n"
          ],
          "name": "stdout"
        }
      ]
    },
    {
      "cell_type": "code",
      "metadata": {
        "id": "h0sTfc3SEVPN",
        "colab_type": "code",
        "outputId": "560d0e90-4866-460b-e463-f81700132216",
        "colab": {
          "base_uri": "https://localhost:8080/",
          "height": 35
        }
      },
      "source": [
        "dog3 = Dog()\n",
        "dog4 = Dog()\n",
        "print(dog3 is dog4)"
      ],
      "execution_count": 0,
      "outputs": [
        {
          "output_type": "stream",
          "text": [
            "False\n"
          ],
          "name": "stdout"
        }
      ]
    },
    {
      "cell_type": "code",
      "metadata": {
        "id": "yJNBM1CjEmbE",
        "colab_type": "code",
        "outputId": "5bba8d93-b5e4-41b5-b2e7-75907bcd56a3",
        "colab": {
          "base_uri": "https://localhost:8080/",
          "height": 35
        }
      },
      "source": [
        "# give dog3 another Python name 'dog5'\n",
        "dog5 = dog3\n",
        "print(dog3 is dog5)"
      ],
      "execution_count": 0,
      "outputs": [
        {
          "output_type": "stream",
          "text": [
            "True\n"
          ],
          "name": "stdout"
        }
      ]
    },
    {
      "cell_type": "markdown",
      "metadata": {
        "id": "pj_Ux0gKE-Ps",
        "colab_type": "text"
      },
      "source": [
        "Read the document carefully...  \n",
        "https://docs.python.org/2/library/copy.html  "
      ]
    },
    {
      "cell_type": "code",
      "metadata": {
        "id": "nHawb_eiFIrE",
        "colab_type": "code",
        "outputId": "d2e23744-fc50-426c-a248-478509584502",
        "colab": {
          "base_uri": "https://localhost:8080/",
          "height": 35
        }
      },
      "source": [
        "from copy import copy\n",
        "# copy dog3 to dog6\n",
        "dog6 = copy(dog3)\n",
        "print(dog3 is dog6)"
      ],
      "execution_count": 0,
      "outputs": [
        {
          "output_type": "stream",
          "text": [
            "False\n"
          ],
          "name": "stdout"
        }
      ]
    },
    {
      "cell_type": "markdown",
      "metadata": {
        "id": "2okYT7SHG9_g",
        "colab_type": "text"
      },
      "source": [
        "# Week 10 Day 4"
      ]
    },
    {
      "cell_type": "markdown",
      "metadata": {
        "id": "u3U37yMp-buq",
        "colab_type": "text"
      },
      "source": [
        "### Library \"unittest\"  - Unit testing framework \n",
        "https://docs.python.org/2/library/unittest.html  \n",
        "(To be honest, this doesn't seem very useful for me. I am going to skip it.  \n",
        " If I really need to automate my unit testing, I will have all kinds of ways to manage it.  \n",
        " Also Python is a script language, just keep it as script...)"
      ]
    },
    {
      "cell_type": "markdown",
      "metadata": {
        "id": "kFTRt5JVHMJc",
        "colab_type": "text"
      },
      "source": [
        "# Python Decorators\n",
        "\n",
        "Primer on Python Decorators  \n",
        "https://realpython.com/primer-on-python-decorators/  \n",
        "\n",
        "Python Tutorial: Decorators - Dynamically Alter The Functionality Of Your Functions  \n",
        "https://www.youtube.com/watch?v=FsAPt_9Bf3U  "
      ]
    },
    {
      "cell_type": "code",
      "metadata": {
        "id": "YApAyJuK3yOx",
        "colab_type": "code",
        "outputId": "0aeb99e1-21e6-4a9a-8e5b-a00c44dce5eb",
        "colab": {
          "base_uri": "https://localhost:8080/",
          "height": 87
        }
      },
      "source": [
        "def outer_func(msg):\n",
        "    print(\"outer func prints\", msg)\n",
        "    def inner_func():\n",
        "        # msg can be accessed by the inner function\n",
        "        print(\"inner func prints\", msg)  \n",
        "    return inner_func\n",
        "        \n",
        "msg = \"'hi'\"\n",
        "outer_func(msg); print()\n",
        "\n",
        "func = outer_func(msg)\n",
        "func()"
      ],
      "execution_count": 0,
      "outputs": [
        {
          "output_type": "stream",
          "text": [
            "outer func prints 'hi'\n",
            "\n",
            "outer func prints 'hi'\n",
            "inner func prints 'hi'\n"
          ],
          "name": "stdout"
        }
      ]
    },
    {
      "cell_type": "code",
      "metadata": {
        "id": "1pJTQoCy5_py",
        "colab_type": "code",
        "outputId": "1f5814b1-0941-4fac-e873-5ce1171c0bd4",
        "colab": {
          "base_uri": "https://localhost:8080/",
          "height": 52
        }
      },
      "source": [
        "def outer_func(msg):\n",
        "    def inner_func():\n",
        "        # msg can be accessed by the inner function\n",
        "        print(\"inner func prints\", msg) \n",
        "    return inner_func\n",
        "\n",
        "hi_func = outer_func(\"'hi'\")\n",
        "bye_func = outer_func(\"'bye'\")\n",
        "hi_func()\n",
        "bye_func()"
      ],
      "execution_count": 0,
      "outputs": [
        {
          "output_type": "stream",
          "text": [
            "inner func prints 'hi'\n",
            "inner func prints 'bye'\n"
          ],
          "name": "stdout"
        }
      ]
    },
    {
      "cell_type": "code",
      "metadata": {
        "id": "tSeFIibXPcv2",
        "colab_type": "code",
        "outputId": "ba1ad60e-2732-41e1-84c1-4c4559642e51",
        "colab": {
          "base_uri": "https://localhost:8080/",
          "height": 105
        }
      },
      "source": [
        "def original_func():\n",
        "    print(\"original func prints\")\n",
        "        \n",
        "def decorator_func(func):\n",
        "    print(\"decorator func prints\")\n",
        "    return func\n",
        "\n",
        "func = decorator_func(original_func); print()\n",
        "print(func); print()\n",
        "func()"
      ],
      "execution_count": 0,
      "outputs": [
        {
          "output_type": "stream",
          "text": [
            "decorator func prints\n",
            "\n",
            "<function original_func at 0x7f18912ac950>\n",
            "\n",
            "original func prints\n"
          ],
          "name": "stdout"
        }
      ]
    },
    {
      "cell_type": "code",
      "metadata": {
        "id": "B9bcjuTyBt-g",
        "colab_type": "code",
        "outputId": "d14caefd-a2dc-43a1-bbf1-e4332dcb81dc",
        "colab": {
          "base_uri": "https://localhost:8080/",
          "height": 87
        }
      },
      "source": [
        "def original_func():\n",
        "    print(\"original func prints\")\n",
        "        \n",
        "def decorator_func(func):\n",
        "    # why is there a wrapper function?\n",
        "    # the functionality inside the wrapper won't get\n",
        "    # executed when decorateor is called\n",
        "    def wrapper_func():\n",
        "        print(\"wrapper func prints\")\n",
        "        return func()\n",
        "    return wrapper_func\n",
        "\n",
        "func = decorator_func(original_func)\n",
        "print(func); print()\n",
        "func()"
      ],
      "execution_count": 0,
      "outputs": [
        {
          "output_type": "stream",
          "text": [
            "<function decorator_func.<locals>.wrapper_func at 0x7f18912ac9d8>\n",
            "\n",
            "wrapper func prints\n",
            "original func prints\n"
          ],
          "name": "stdout"
        }
      ]
    },
    {
      "cell_type": "code",
      "metadata": {
        "id": "_lGn6WH0Qeft",
        "colab_type": "code",
        "outputId": "b0cbbc58-c616-4ae0-c552-485d0282e1b5",
        "colab": {
          "base_uri": "https://localhost:8080/",
          "height": 87
        }
      },
      "source": [
        "def decorator_func(func):\n",
        "    # why is there a wrapper function?\n",
        "    # the functionality inside the wrapper won't get\n",
        "    # executed when decorateor is called\n",
        "    def wrapper_func():\n",
        "        # add print functionality to func()\n",
        "        print(\"wrapper func prints\")\n",
        "        return func()\n",
        "    return wrapper_func\n",
        "\n",
        "@decorator_func\n",
        "def original_func():\n",
        "    print(\"original func prints\")\n",
        "\n",
        "print(original_func); print()\n",
        "original_func()"
      ],
      "execution_count": 0,
      "outputs": [
        {
          "output_type": "stream",
          "text": [
            "<function decorator_func.<locals>.wrapper_func at 0x7f1890a4b048>\n",
            "\n",
            "wrapper func prints\n",
            "original func prints\n"
          ],
          "name": "stdout"
        }
      ]
    },
    {
      "cell_type": "code",
      "metadata": {
        "id": "hpNbawZAeQaf",
        "colab_type": "code",
        "outputId": "28990901-f5a3-4c3c-a1f1-191a2fc771bb",
        "colab": {
          "base_uri": "https://localhost:8080/",
          "height": 238
        }
      },
      "source": [
        "def decorator_func(func):\n",
        "    def wrapper_func():\n",
        "        print(\"wrapper func prints\")\n",
        "        return func()\n",
        "    return wrapper_func\n",
        "\n",
        "@decorator_func\n",
        "def display_info(name, age):\n",
        "    print(name, age)\n",
        "    \n",
        "print(display_info); print()\n",
        "display_info(\"Jone\", 85)\n",
        "# TypeError: wrapper_func() takes 0 positional arguments but 2 were given"
      ],
      "execution_count": 0,
      "outputs": [
        {
          "output_type": "stream",
          "text": [
            "<function decorator_func.<locals>.wrapper_func at 0x7efe8bc99400>\n",
            "\n"
          ],
          "name": "stdout"
        },
        {
          "output_type": "error",
          "ename": "TypeError",
          "evalue": "ignored",
          "traceback": [
            "\u001b[0;31m---------------------------------------------------------------------------\u001b[0m",
            "\u001b[0;31mTypeError\u001b[0m                                 Traceback (most recent call last)",
            "\u001b[0;32m<ipython-input-26-f6f94ac7c973>\u001b[0m in \u001b[0;36m<module>\u001b[0;34m()\u001b[0m\n\u001b[1;32m     10\u001b[0m \u001b[0;34m\u001b[0m\u001b[0m\n\u001b[1;32m     11\u001b[0m \u001b[0mprint\u001b[0m\u001b[0;34m(\u001b[0m\u001b[0mdisplay_info\u001b[0m\u001b[0;34m)\u001b[0m\u001b[0;34m;\u001b[0m \u001b[0mprint\u001b[0m\u001b[0;34m(\u001b[0m\u001b[0;34m)\u001b[0m\u001b[0;34m\u001b[0m\u001b[0;34m\u001b[0m\u001b[0m\n\u001b[0;32m---> 12\u001b[0;31m \u001b[0mdisplay_info\u001b[0m\u001b[0;34m(\u001b[0m\u001b[0;34m\"Jone\"\u001b[0m\u001b[0;34m,\u001b[0m \u001b[0;36m85\u001b[0m\u001b[0;34m)\u001b[0m\u001b[0;34m\u001b[0m\u001b[0;34m\u001b[0m\u001b[0m\n\u001b[0m",
            "\u001b[0;31mTypeError\u001b[0m: wrapper_func() takes 0 positional arguments but 2 were given"
          ]
        }
      ]
    },
    {
      "cell_type": "markdown",
      "metadata": {
        "id": "VhuXgFNiGnMe",
        "colab_type": "text"
      },
      "source": [
        "### Decorator Function"
      ]
    },
    {
      "cell_type": "code",
      "metadata": {
        "id": "zCl6P-OBgppH",
        "colab_type": "code",
        "outputId": "18d30b97-e2c0-461f-fa46-9c6fa47f47c1",
        "colab": {
          "base_uri": "https://localhost:8080/",
          "height": 87
        }
      },
      "source": [
        "def decorator_func(func):\n",
        "    def wrapper_func(*args, **kwargs):\n",
        "        print(\"wrapper func prints\")\n",
        "        return func(*args, **kwargs)\n",
        "    return wrapper_func\n",
        "\n",
        "@decorator_func\n",
        "def display_info(name, age):\n",
        "    print(name, age)\n",
        "    \n",
        "print(display_info); print()\n",
        "display_info(\"Jone\", 85)"
      ],
      "execution_count": 0,
      "outputs": [
        {
          "output_type": "stream",
          "text": [
            "<function decorator_func.<locals>.wrapper_func at 0x7efe8bca2d90>\n",
            "\n",
            "wrapper func prints\n",
            "Jone 85\n"
          ],
          "name": "stdout"
        }
      ]
    },
    {
      "cell_type": "markdown",
      "metadata": {
        "id": "iMRQla4AEoPa",
        "colab_type": "text"
      },
      "source": [
        "### Decorator Class"
      ]
    },
    {
      "cell_type": "code",
      "metadata": {
        "id": "WotLnIzSDkPE",
        "colab_type": "code",
        "outputId": "82ac7598-e453-4a9c-e8a9-e219c73fe804",
        "colab": {
          "base_uri": "https://localhost:8080/",
          "height": 87
        }
      },
      "source": [
        "class decorator_class(object):\n",
        "    def __init__(self, regular_func):\n",
        "        self.regular_func = regular_func\n",
        "    \n",
        "    def __call__(self, *args, **kwargs):\n",
        "        print(\"decorator_class.__call__() prints\")\n",
        "        return self.regular_func(*args, **kwargs)\n",
        "    \n",
        "@decorator_class\n",
        "def display_info(name, age):\n",
        "    print(name, age)\n",
        "    \n",
        "print(display_info); print()\n",
        "display_info(\"Jone\", 85)"
      ],
      "execution_count": 0,
      "outputs": [
        {
          "output_type": "stream",
          "text": [
            "<__main__.decorator_class object at 0x7f3f08f6f7f0>\n",
            "\n",
            "decorator_class.__call__() prints\n",
            "Jone 85\n"
          ],
          "name": "stdout"
        }
      ]
    },
    {
      "cell_type": "markdown",
      "metadata": {
        "id": "GHoOOuRY1zAr",
        "colab_type": "text"
      },
      "source": [
        "# Logging - A Practice of Decorator\n",
        "\n",
        "Python Tutorial: Decorators - Dynamically Alter The Functionality Of Your Functions  \n",
        "https://youtu.be/FsAPt_9Bf3U?t=1023  \n",
        "\n",
        "5.7. logging — Logging facility for Python  \n",
        "https://docs.python.org/2/library/logging.html  "
      ]
    },
    {
      "cell_type": "code",
      "metadata": {
        "id": "NBZgZHg616B2",
        "colab_type": "code",
        "outputId": "b93a0902-9222-4675-e462-da0520c6e0e4",
        "colab": {
          "base_uri": "https://localhost:8080/",
          "height": 70
        }
      },
      "source": [
        "def my_logger(original_func):\n",
        "    import logging\n",
        "    # it will generate a file named \"<original_func name>.log\"\n",
        "    logging.basicConfig(filename='{}.log'.format(original_func.__name__),\n",
        "                        level=logging.INFO)\n",
        "    \n",
        "    def wrapper_func(*args, **kwargs):\n",
        "        logging.info('Ran with args: {}'.format(args, kwargs))\n",
        "        return original_func(*args, **kwargs)\n",
        "   \n",
        "    return wrapper_func\n",
        "\n",
        "def my_timer(original_func):\n",
        "    import time\n",
        "    \n",
        "    def wrapper_func(*args, **kwargs):\n",
        "        t = time.time()\n",
        "        result = original_func(*args, **kwargs)\n",
        "        duration = time.time() - t\n",
        "        print(\"{} ran in {} sec\".format(original_func.__name__, duration))\n",
        "        return result\n",
        "    \n",
        "    return wrapper_func\n",
        "      \n",
        "@my_logger\n",
        "def display_info(name, age):\n",
        "    print(name, age)\n",
        "    \n",
        "# logs will be saved in display_info.log file    \n",
        "# \"INFO:root:Ran with args: ('Jone', 85)\"\n",
        "print(display_info)\n",
        "display_info(\"Jone\", 85)\n",
        "display_info(\"Sophie\", 95)"
      ],
      "execution_count": 0,
      "outputs": [
        {
          "output_type": "stream",
          "text": [
            "<function my_logger.<locals>.wrapper_func at 0x7f9cfc36b840>\n",
            "Jone 85\n",
            "Sophie 95\n"
          ],
          "name": "stdout"
        }
      ]
    },
    {
      "cell_type": "code",
      "metadata": {
        "id": "j4qJSxwNCyM3",
        "colab_type": "code",
        "outputId": "5406c8dd-59fb-4db8-a869-01db583156ce",
        "colab": {
          "base_uri": "https://localhost:8080/",
          "height": 52
        }
      },
      "source": [
        "# check logs\n",
        "!cat display_info.log"
      ],
      "execution_count": 0,
      "outputs": [
        {
          "output_type": "stream",
          "text": [
            "INFO:root:Ran with args: ('Jone', 85)\n",
            "INFO:root:Ran with args: ('Sophie', 95)\n"
          ],
          "name": "stdout"
        }
      ]
    },
    {
      "cell_type": "code",
      "metadata": {
        "id": "M-h2fxZ0HJdA",
        "colab_type": "code",
        "outputId": "5e78a7d9-1408-4944-e055-380392890c81",
        "colab": {
          "base_uri": "https://localhost:8080/",
          "height": 52
        }
      },
      "source": [
        "@my_timer\n",
        "def display_info(name, age):\n",
        "    print(name, age)\n",
        "    \n",
        "display_info(\"Jone\", 85)"
      ],
      "execution_count": 0,
      "outputs": [
        {
          "output_type": "stream",
          "text": [
            "Jone 85\n",
            "display_info ran in 0.0014624595642089844 sec\n"
          ],
          "name": "stdout"
        }
      ]
    },
    {
      "cell_type": "markdown",
      "metadata": {
        "id": "-OQcTxhEIIu6",
        "colab_type": "text"
      },
      "source": [
        "### Stack decorators together"
      ]
    },
    {
      "cell_type": "code",
      "metadata": {
        "id": "CNfpGVFPHNt2",
        "colab_type": "code",
        "outputId": "8f2974aa-147d-40e4-9452-37d74550e540",
        "colab": {
          "base_uri": "https://localhost:8080/",
          "height": 52
        }
      },
      "source": [
        "# stack decorators together\n",
        "@my_timer\n",
        "@my_logger\n",
        "def display_info(name, age):\n",
        "    print(name, age)\n",
        "    \n",
        "display_info(\"Jone\", 85)\n",
        "# Jone 85\n",
        "# wrapper_func ran in 0.0017650127410888672 sec\n",
        "\n",
        "# timing wrapper_func() isn't what we wanted..."
      ],
      "execution_count": 0,
      "outputs": [
        {
          "output_type": "stream",
          "text": [
            "Jone 85\n",
            "wrapper_func ran in 0.0017650127410888672 sec\n"
          ],
          "name": "stdout"
        }
      ]
    },
    {
      "cell_type": "code",
      "metadata": {
        "id": "OKJM73rXHeEK",
        "colab_type": "code",
        "outputId": "e61e6f38-004d-4257-e32d-26f027e7d814",
        "colab": {
          "base_uri": "https://localhost:8080/",
          "height": 70
        }
      },
      "source": [
        "# check logs\n",
        "!cat display_info.log"
      ],
      "execution_count": 0,
      "outputs": [
        {
          "output_type": "stream",
          "text": [
            "INFO:root:Ran with args: ('Jone', 85)\n",
            "INFO:root:Ran with args: ('Sophie', 95)\n",
            "INFO:root:Ran with args: ('Jone', 85)\n"
          ],
          "name": "stdout"
        }
      ]
    },
    {
      "cell_type": "markdown",
      "metadata": {
        "id": "LAXvEgmaJRsP",
        "colab_type": "text"
      },
      "source": [
        "### Using functools.wraps()"
      ]
    },
    {
      "cell_type": "code",
      "metadata": {
        "id": "UQ8z7ojpIUAM",
        "colab_type": "code",
        "outputId": "c4bfb084-e4c8-4d20-bed2-a2d95369a15c",
        "colab": {
          "base_uri": "https://localhost:8080/",
          "height": 87
        }
      },
      "source": [
        "from functools import wraps\n",
        "\n",
        "def my_logger(original_func):\n",
        "    import logging\n",
        "    logging.basicConfig(filename='{}.log'.format(original_func.__name__),\n",
        "                        level=logging.INFO)\n",
        "    \n",
        "    # use functools.wraps() decorator to wrap the original function\n",
        "    @wraps(original_func)\n",
        "    def wrapper_func(*args, **kwargs):\n",
        "        logging.info('Ran with args: {}'.format(args, kwargs))\n",
        "        return original_func(*args, **kwargs)\n",
        "   \n",
        "    return wrapper_func\n",
        "\n",
        "def my_timer(original_func):\n",
        "    import time\n",
        "    \n",
        "    @wraps(original_func)\n",
        "    def wrapper_func(*args, **kwargs):\n",
        "        t = time.time()\n",
        "        result = original_func(*args, **kwargs)\n",
        "        duration = time.time() - t\n",
        "        print(\"{} ran in {} sec\".format(original_func.__name__, duration))\n",
        "        return result\n",
        "    \n",
        "    return wrapper_func\n",
        "\n",
        "@my_timer\n",
        "@my_logger\n",
        "def display_info(name, age):\n",
        "    print(name, age)\n",
        "    \n",
        "display_info(\"Jone\", 85)\n",
        "display_info(\"Sophine\", 95)"
      ],
      "execution_count": 0,
      "outputs": [
        {
          "output_type": "stream",
          "text": [
            "Jone 85\n",
            "display_info ran in 0.0004742145538330078 sec\n",
            "Sophine 95\n",
            "display_info ran in 0.0007734298706054688 sec\n"
          ],
          "name": "stdout"
        }
      ]
    },
    {
      "cell_type": "code",
      "metadata": {
        "id": "WNBEinH_JgRN",
        "colab_type": "code",
        "outputId": "a39f5fb7-19e4-45de-818c-25c2da298ea5",
        "colab": {
          "base_uri": "https://localhost:8080/",
          "height": 52
        }
      },
      "source": [
        "# check logs\n",
        "!cat display_info.log"
      ],
      "execution_count": 0,
      "outputs": [
        {
          "output_type": "stream",
          "text": [
            "INFO:root:Ran with args: ('Jone', 85)\n",
            "INFO:root:Ran with args: ('Sophine', 95)\n"
          ],
          "name": "stdout"
        }
      ]
    }
  ]
}